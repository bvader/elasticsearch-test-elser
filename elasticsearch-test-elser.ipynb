{
  "cells": [
    {
      "cell_type": "markdown",
      "metadata": {
        "id": "view-in-github",
        "colab_type": "text"
      },
      "source": [
        "<a href=\"https://colab.research.google.com/github/bvader/elasticsearch-test-elser/blob/main/elasticsearch-test-elser.ipynb\" target=\"_parent\"><img src=\"https://colab.research.google.com/assets/colab-badge.svg\" alt=\"Open In Colab\"/></a>"
      ]
    },
    {
      "cell_type": "markdown",
      "metadata": {
        "id": "ddI9pmHfaQHc"
      },
      "source": [
        "# Initial Setup"
      ]
    },
    {
      "cell_type": "code",
      "execution_count": null,
      "metadata": {
        "colab": {
          "base_uri": "https://localhost:8080/"
        },
        "id": "cRUzDQ2MtIna",
        "outputId": "0c1be723-b5a4-4b5c-a854-4603ed5b64a8"
      },
      "outputs": [
        {
          "name": "stdout",
          "output_type": "stream",
          "text": [
            "Collecting elasticsearch\n",
            "  Downloading elasticsearch-8.11.0-py3-none-any.whl (412 kB)\n",
            "\u001b[?25l     \u001b[90m━━━━━━━━━━━━━━━━━━━━━━━━━━━━━━━━━━━━━━━━\u001b[0m \u001b[32m0.0/412.6 kB\u001b[0m \u001b[31m?\u001b[0m eta \u001b[36m-:--:--\u001b[0m\r\u001b[2K     \u001b[91m━━━━━━━━━━━━━━━━━━━\u001b[0m\u001b[91m╸\u001b[0m\u001b[90m━━━━━━━━━━━━━━━━━━━━\u001b[0m \u001b[32m204.8/412.6 kB\u001b[0m \u001b[31m6.2 MB/s\u001b[0m eta \u001b[36m0:00:01\u001b[0m\r\u001b[2K     \u001b[90m━━━━━━━━━━━━━━━━━━━━━━━━━━━━━━━━━━━━━━━━\u001b[0m \u001b[32m412.6/412.6 kB\u001b[0m \u001b[31m8.8 MB/s\u001b[0m eta \u001b[36m0:00:00\u001b[0m\n",
            "\u001b[?25hCollecting elastic-transport<9,>=8 (from elasticsearch)\n",
            "  Downloading elastic_transport-8.10.0-py3-none-any.whl (59 kB)\n",
            "\u001b[?25l     \u001b[90m━━━━━━━━━━━━━━━━━━━━━━━━━━━━━━━━━━━━━━━━\u001b[0m \u001b[32m0.0/59.8 kB\u001b[0m \u001b[31m?\u001b[0m eta \u001b[36m-:--:--\u001b[0m\r\u001b[2K     \u001b[90m━━━━━━━━━━━━━━━━━━━━━━━━━━━━━━━━━━━━━━━━\u001b[0m \u001b[32m59.8/59.8 kB\u001b[0m \u001b[31m7.5 MB/s\u001b[0m eta \u001b[36m0:00:00\u001b[0m\n",
            "\u001b[?25hRequirement already satisfied: urllib3<3,>=1.26.2 in /usr/local/lib/python3.10/dist-packages (from elastic-transport<9,>=8->elasticsearch) (2.0.7)\n",
            "Requirement already satisfied: certifi in /usr/local/lib/python3.10/dist-packages (from elastic-transport<9,>=8->elasticsearch) (2023.11.17)\n",
            "Installing collected packages: elastic-transport, elasticsearch\n",
            "Successfully installed elastic-transport-8.10.0 elasticsearch-8.11.0\n"
          ]
        }
      ],
      "source": [
        "!pip install elasticsearch"
      ]
    },
    {
      "cell_type": "code",
      "execution_count": 8,
      "metadata": {
        "colab": {
          "base_uri": "https://localhost:8080/"
        },
        "id": "dnbLkZRjHenj",
        "outputId": "40c25c5e-5a53-4f34-ae6e-5e5a16220c9c"
      },
      "outputs": [
        {
          "name": "stdout",
          "output_type": "stream",
          "text": [
            "Enter Elasticsearch Endpoint:  ··········\n",
            "Enter User:  ··········\n",
            "Enter Password:  ··········\n"
          ]
        }
      ],
      "source": [
        "# Read in connection and auth info\n",
        "# Note the port is REQUIRED for the elasticsearch endpoint!\n",
        "import getpass, os\n",
        "\n",
        "os.environ['es_url'] = getpass.getpass('Enter Elasticsearch Endpoint:  ')\n",
        "os.environ['es_user'] = getpass.getpass('Enter User:  ')\n",
        "os.environ['es_pwd'] = getpass.getpass('Enter Password:  ')"
      ]
    },
    {
      "cell_type": "code",
      "execution_count": 9,
      "metadata": {
        "colab": {
          "base_uri": "https://localhost:8080/"
        },
        "id": "XbqVOuPbsxb_",
        "outputId": "8ef9f7ef-9f89-43b9-a6e4-618c31b9d1c3"
      },
      "outputs": [
        {
          "output_type": "execute_result",
          "data": {
            "text/plain": [
              "{'name': 'instance-0000000100',\n",
              " 'cluster_name': '053f51f005b94c4084c36cb3bd74c467',\n",
              " 'cluster_uuid': 'lPhIKHfzSGO52N-k2eXlBQ',\n",
              " 'version': {'number': '8.11.1',\n",
              "  'build_flavor': 'default',\n",
              "  'build_type': 'docker',\n",
              "  'build_hash': '6f9ff581fbcde658e6f69d6ce03050f060d1fd0c',\n",
              "  'build_date': '2023-11-11T10:05:59.421038163Z',\n",
              "  'build_snapshot': False,\n",
              "  'lucene_version': '9.8.0',\n",
              "  'minimum_wire_compatibility_version': '7.17.0',\n",
              "  'minimum_index_compatibility_version': '7.0.0'},\n",
              " 'tagline': 'You Know, for Search'}"
            ]
          },
          "metadata": {},
          "execution_count": 9
        }
      ],
      "source": [
        "# Connect and test connection\n",
        "from elasticsearch import Elasticsearch\n",
        "\n",
        "\n",
        "es_url = os.environ['es_url']\n",
        "es_user = os.environ['es_user']\n",
        "es_pwd = os.environ['es_pwd']\n",
        "\n",
        "# Initialize the Elasticsearch client\n",
        "es = Elasticsearch(\n",
        "    [es_url],\n",
        "    basic_auth=(es_user, es_pwd),\n",
        "    request_timeout=30\n",
        ")\n",
        "es.info().body"
      ]
    },
    {
      "cell_type": "markdown",
      "metadata": {
        "id": "BdDIdAgsaXhi"
      },
      "source": [
        "# Data and Model Setup"
      ]
    },
    {
      "cell_type": "code",
      "execution_count": 13,
      "metadata": {
        "colab": {
          "base_uri": "https://localhost:8080/"
        },
        "id": "y6e_aa9kyjcI",
        "outputId": "2c69e2f2-fc9b-4b4a-c276-94f6a0781fb6"
      },
      "outputs": [
        {
          "output_type": "stream",
          "name": "stdout",
          "text": [
            "{\"question_id\": \"Tx39GCUOS5AYAFK\", \"question_text\": \"does this work with cisco ip phone 7942\", \"asin\": \"B000LSZ2D6\", \"bullet_point1\": \"Noise-Canceling microphone filters out background sound\", \"bullet_point2\": \"HW251N P/N 75100-06\", \"bullet_point3\": \"Uses Plantronics QD Quick Disconnect Connector. Must be used with Plantronics Amp or with proper phone or USB adapter cable\", \"bullet_point4\": \"Connectivity Technology: Wired, Earpiece Design: Over-the-head, Earpiece Type: Monaural, Host Interface: Proprietary, Microphone Design: Boom, Microphone Technology: Noise Canceling, Product Model: HW251N, Product Series: SupraPlus, Standard Warranty: 2 Year\", \"bullet_point5\": \"Easy Lightweight Wear -Leaving One Ear Uncovered For Person-to-Person Conversations\", \"product_description\": \"\", \"brand_name\": \"Plantronics\", \"item_name\": \"Plantronics HW251N SupraPlus Wideband Headset (64338-31)\", \"question_type\": \"yes-no\", \"answer_aggregated\": \"neutral\", \"answers\": [{\"answer_text\": \"Use the Plantronics compatibility guide to see what is compatible with your phone. http://www.plantronics.com/us/compatibility-guide/\"}, {\"answer_text\": \"I think that you will need a extra cord, but, To avoid offering you any false information,   We highly recommend contacting the manufacturer of this product for more specific information.   if you are not sure about it, you can go first to :  http://www.plantronics.com/us/support/  or call Plantronics TOLL FREE SUPPORT: 1-855-765-7878 24-HOUR SUPPORT SUNDAY 2PM-FRIDAY 5PM (PT)  they will answer all the questions you need to know about it.\"}, {\"answer_text\": \"I'm really not positive. It works with our phones that include model numbers 7941, 7945 and 7961.\"}]}\n",
            "{\"question_id\": \"TxH4TPAQFBLE5L\", \"question_text\": \"Is this compatible with the cisco ip phone 7970 / 7961 models?\", \"asin\": \"B000LSZ2D6\", \"bullet_point1\": \"Noise-Canceling microphone filters out background sound\", \"bullet_point2\": \"HW251N P/N 75100-06\", \"bullet_point3\": \"Uses Plantronics QD Quick Disconnect Connector. Must be used with Plantronics Amp or with proper phone or USB adapter cable\", \"bullet_point4\": \"Connectivity Technology: Wired, Earpiece Design: Over-the-head, Earpiece Type: Monaural, Host Interface: Proprietary, Microphone Design: Boom, Microphone Technology: Noise Canceling, Product Model: HW251N, Product Series: SupraPlus, Standard Warranty: 2 Year\", \"bullet_point5\": \"Easy Lightweight Wear -Leaving One Ear Uncovered For Person-to-Person Conversations\", \"product_description\": \"\", \"brand_name\": \"Plantronics\", \"item_name\": \"Plantronics HW251N SupraPlus Wideband Headset (64338-31)\", \"question_type\": \"yes-no\", \"answer_aggregated\": \"yes\", \"answers\": [{\"answer_text\": \"Don\\u2019t know. Call Plantronics\"}, {\"answer_text\": \"Well...Don't know.\"}, {\"answer_text\": \"This headset should work but it requires a separate adapter to go with it in order too connect with this telephone. Below is a headset that includes the cord you'll need to connect with your Cisco phones.  https://www.amazon.com/dp/B01MYGZGUV\"}, {\"answer_text\": \"Hello! Yes it is compatible, however please note you will need an adapter cable in order to plug it into the phone. The model of the cable depends on the phone that you have. The compatible model for both phones is a U10 cable, Part Number: 26716-01. Feel free to contact our Customer Care Team at: 800-985-9815 if you have any other questions!\"}]}\n",
            "{\"question_id\": \"TxQE5FTUZUKZTX\", \"question_text\": \"If i have a polycom vvx, what adapter cable will i need to plug in this headset to?\", \"asin\": \"B000LSZ2D6\", \"bullet_point1\": \"Noise-Canceling microphone filters out background sound\", \"bullet_point2\": \"HW251N P/N 75100-06\", \"bullet_point3\": \"Uses Plantronics QD Quick Disconnect Connector. Must be used with Plantronics Amp or with proper phone or USB adapter cable\", \"bullet_point4\": \"Connectivity Technology: Wired, Earpiece Design: Over-the-head, Earpiece Type: Monaural, Host Interface: Proprietary, Microphone Design: Boom, Microphone Technology: Noise Canceling, Product Model: HW251N, Product Series: SupraPlus, Standard Warranty: 2 Year\", \"bullet_point5\": \"Easy Lightweight Wear -Leaving One Ear Uncovered For Person-to-Person Conversations\", \"product_description\": \"\", \"brand_name\": \"Plantronics\", \"item_name\": \"Plantronics HW251N SupraPlus Wideband Headset (64338-31)\", \"question_type\": \"WH\", \"answer_aggregated\": \"N/A\", \"answers\": [{\"answer_text\": \"Hi Gabrielle, what is the model of VVX?\"}, {\"answer_text\": \"This head set come with its own cable\"}, {\"answer_text\": \"Plantronics 27190-01 QD/ED to RJ-9  See...  http://support.polycom.com/global/documents/support/technical/products/voice/FP37477 Using Headsets With Polycom Phones.pdf\"}]}\n",
            "{\"question_id\": \"Tx3G6XE2PTGUTHY\", \"question_text\": \"Does this headset work with a samsung galaxy s6 edge cell phone? if so, which adapter does it require? is that adapter available on amazon?  thanks.\", \"asin\": \"B000LSZ2D6\", \"bullet_point1\": \"Noise-Canceling microphone filters out background sound\", \"bullet_point2\": \"HW251N P/N 75100-06\", \"bullet_point3\": \"Uses Plantronics QD Quick Disconnect Connector. Must be used with Plantronics Amp or with proper phone or USB adapter cable\", \"bullet_point4\": \"Connectivity Technology: Wired, Earpiece Design: Over-the-head, Earpiece Type: Monaural, Host Interface: Proprietary, Microphone Design: Boom, Microphone Technology: Noise Canceling, Product Model: HW251N, Product Series: SupraPlus, Standard Warranty: 2 Year\", \"bullet_point5\": \"Easy Lightweight Wear -Leaving One Ear Uncovered For Person-to-Person Conversations\", \"product_description\": \"\", \"brand_name\": \"Plantronics\", \"item_name\": \"Plantronics HW251N SupraPlus Wideband Headset (64338-31)\", \"question_type\": \"WH\", \"answer_aggregated\": \"N/A\", \"answers\": [{\"answer_text\": \"no wont work\"}]}\n",
            "{\"question_id\": \"Tx29KTO6BDODB6F\", \"question_text\": \"Will this work for a polycom vvx phone? also, is it necessary to purchase that extra adapter if i will use only with ploycom?\", \"asin\": \"B000LSZ2D6\", \"bullet_point1\": \"Noise-Canceling microphone filters out background sound\", \"bullet_point2\": \"HW251N P/N 75100-06\", \"bullet_point3\": \"Uses Plantronics QD Quick Disconnect Connector. Must be used with Plantronics Amp or with proper phone or USB adapter cable\", \"bullet_point4\": \"Connectivity Technology: Wired, Earpiece Design: Over-the-head, Earpiece Type: Monaural, Host Interface: Proprietary, Microphone Design: Boom, Microphone Technology: Noise Canceling, Product Model: HW251N, Product Series: SupraPlus, Standard Warranty: 2 Year\", \"bullet_point5\": \"Easy Lightweight Wear -Leaving One Ear Uncovered For Person-to-Person Conversations\", \"product_description\": \"\", \"brand_name\": \"Plantronics\", \"item_name\": \"Plantronics HW251N SupraPlus Wideband Headset (64338-31)\", \"question_type\": \"WH\", \"answer_aggregated\": \"N/A\", \"answers\": [{\"answer_text\": \"Yes, but you need a cable in between the headset and the Polycom. Plantronics Part Number: 27190-01\"}, {\"answer_text\": \"Hi there, yes this headset will work with your Polycom phone but you'll need to purchase the U10P direct connect cable as well. Out of the box this headset won't connect to anything unless you purchase the adapter for specific phones. Give us a call at 1-800-683-5715 for any further questions.\"}, {\"answer_text\": \"Per Polycom: These are compatible headsets for Polycom Soundpoint IP 300, 301, 335, 430, 450, 500, 501, 550, 560, 600, 601, 650, 670, CX300, CX500, CX600, CX700, VVX 101, VVX 201, VVX 300, 301, VVX 310, 311, VVX 400, 401, VVX 410, 411, VVX 500, 501, VVX 600, 601, VVX 1500.  Plantronics Corded Headsets: Only the Plantronics  SupraPlus \\\" (HW251, HW251N, HW261, HW261N),  \\\"EncorePro 500 series \\\" (HW530, HW540) and the  \\\"EncorePro 700 series \\\" (HW710, HW720) are compatible + Plantronics U10P Cable (part# 27190-01). All the other models may cause a buzzing sound in the headset. Or pick from any one of the pre-packaged Polycom certified headsets (part# ends with -POLY) below. Note: corded headset solution above require 2 pieces - the headset and the RJ-9 bottom cable.\\\"\"}, {\"answer_text\": \"Pls call Polycom\"}, {\"answer_text\": \"yes, you will need the extra cable\"}]}\n",
            "{\"question_id\": \"TxR5E9R4A6QSII\", \"question_text\": \"When you use the mute button can the person on the other end hear you putting them on mute?\", \"asin\": \"B000LSZ2D6\", \"bullet_point1\": \"Noise-Canceling microphone filters out background sound\", \"bullet_point2\": \"HW251N P/N 75100-06\", \"bullet_point3\": \"Uses Plantronics QD Quick Disconnect Connector. Must be used with Plantronics Amp or with proper phone or USB adapter cable\", \"bullet_point4\": \"Connectivity Technology: Wired, Earpiece Design: Over-the-head, Earpiece Type: Monaural, Host Interface: Proprietary, Microphone Design: Boom, Microphone Technology: Noise Canceling, Product Model: HW251N, Product Series: SupraPlus, Standard Warranty: 2 Year\", \"bullet_point5\": \"Easy Lightweight Wear -Leaving One Ear Uncovered For Person-to-Person Conversations\", \"product_description\": \"\", \"brand_name\": \"Plantronics\", \"item_name\": \"Plantronics HW251N SupraPlus Wideband Headset (64338-31)\", \"question_type\": \"WH\", \"answer_aggregated\": \"N/A\", \"answers\": [{\"answer_text\": \"Hello, the answer is no, the other person cannot hear when you are putting them on mute. :) please call 1800-683-5715 for any further questions. Thanks\"}]}\n",
            "{\"question_id\": \"Tx2MH61M1HRNMZM\", \"question_text\": \"will this work with cisco 7942 phone? what cable i need to buy??\", \"asin\": \"B000LSZ2D6\", \"bullet_point1\": \"Noise-Canceling microphone filters out background sound\", \"bullet_point2\": \"HW251N P/N 75100-06\", \"bullet_point3\": \"Uses Plantronics QD Quick Disconnect Connector. Must be used with Plantronics Amp or with proper phone or USB adapter cable\", \"bullet_point4\": \"Connectivity Technology: Wired, Earpiece Design: Over-the-head, Earpiece Type: Monaural, Host Interface: Proprietary, Microphone Design: Boom, Microphone Technology: Noise Canceling, Product Model: HW251N, Product Series: SupraPlus, Standard Warranty: 2 Year\", \"bullet_point5\": \"Easy Lightweight Wear -Leaving One Ear Uncovered For Person-to-Person Conversations\", \"product_description\": \"\", \"brand_name\": \"Plantronics\", \"item_name\": \"Plantronics HW251N SupraPlus Wideband Headset (64338-31)\", \"question_type\": \"WH\", \"answer_aggregated\": \"N/A\", \"answers\": [{\"answer_text\": \"I would call Headsets.com in San Francisco.   They are will know.  I buy my other supplies from them  800-432-3738\"}, {\"answer_text\": \"Hi Libin, you will need the U10 direct connect cable, part number  26716-01. Give us a call with any further questions at 1-800-683-5715.\"}]}\n",
            "{\"question_id\": \"TxKFNX4GCQETFN\", \"question_text\": \"Is there a connector that will work with a Blackberry and /or an iPhone?\", \"asin\": \"B000LSZ2D6\", \"bullet_point1\": \"Noise-Canceling microphone filters out background sound\", \"bullet_point2\": \"HW251N P/N 75100-06\", \"bullet_point3\": \"Uses Plantronics QD Quick Disconnect Connector. Must be used with Plantronics Amp or with proper phone or USB adapter cable\", \"bullet_point4\": \"Connectivity Technology: Wired, Earpiece Design: Over-the-head, Earpiece Type: Monaural, Host Interface: Proprietary, Microphone Design: Boom, Microphone Technology: Noise Canceling, Product Model: HW251N, Product Series: SupraPlus, Standard Warranty: 2 Year\", \"bullet_point5\": \"Easy Lightweight Wear -Leaving One Ear Uncovered For Person-to-Person Conversations\", \"product_description\": \"\", \"brand_name\": \"Plantronics\", \"item_name\": \"Plantronics HW251N SupraPlus Wideband Headset (64338-31)\", \"question_type\": \"yes-no\", \"answer_aggregated\": \"neutral\", \"answers\": [{\"answer_text\": \"I don't think so.  It connects with a regular phone type plug.\"}, {\"answer_text\": \"i don't know if it has a connector. i bought for our work phones Avaya.\"}, {\"answer_text\": \"No, this isn't meant to use with a cell phone.\"}]}\n",
            "{\"question_id\": \"Tx24LVV77BBWB6\", \"question_text\": \"Does it come with a 2.5mm jack ?\", \"asin\": \"B000LSZ2D6\", \"bullet_point1\": \"Noise-Canceling microphone filters out background sound\", \"bullet_point2\": \"HW251N P/N 75100-06\", \"bullet_point3\": \"Uses Plantronics QD Quick Disconnect Connector. Must be used with Plantronics Amp or with proper phone or USB adapter cable\", \"bullet_point4\": \"Connectivity Technology: Wired, Earpiece Design: Over-the-head, Earpiece Type: Monaural, Host Interface: Proprietary, Microphone Design: Boom, Microphone Technology: Noise Canceling, Product Model: HW251N, Product Series: SupraPlus, Standard Warranty: 2 Year\", \"bullet_point5\": \"Easy Lightweight Wear -Leaving One Ear Uncovered For Person-to-Person Conversations\", \"product_description\": \"\", \"brand_name\": \"Plantronics\", \"item_name\": \"Plantronics HW251N SupraPlus Wideband Headset (64338-31)\", \"question_type\": \"yes-no\", \"answer_aggregated\": \"neutral\", \"answers\": [{\"answer_text\": \"It does not. We had to purchase the DA40 USB Digital Adapter to work with our VVX-500 phones. Part # 71800-41\"}, {\"answer_text\": \"no, it never does. Comes with a Quick Disconnect socket.  However, we sell a  short cable ($6.95) that has a 3.5mm pin on one end and a quick discocnnect socket  on the other that might connect this headset to your device (unsure).  Call Plantronics to find out if these 2 items might work on oyur make and model of device\"}, {\"answer_text\": \"No, that would need to be purchased separately.\"}, {\"answer_text\": \"No it does not. It has the Plantronics Quick Disconnect (QD) connector which must be used with a proper adapter cable.\"}, {\"answer_text\": \"No, it does not.\"}, {\"answer_text\": \"I don't know the answer to this, but when we purchased our equipment we called Plantronics directly.  They were completely helpful, answered our questions and didn't try to sell us more than we needed.\"}, {\"answer_text\": \"Yes, I believe so\"}]}\n",
            "{\"question_id\": \"TxJPTVTNQ4NV60\", \"question_text\": \"Which cord do i need to connect this to a polycom vvx600?\", \"asin\": \"B000LSZ2D6\", \"bullet_point1\": \"Noise-Canceling microphone filters out background sound\", \"bullet_point2\": \"HW251N P/N 75100-06\", \"bullet_point3\": \"Uses Plantronics QD Quick Disconnect Connector. Must be used with Plantronics Amp or with proper phone or USB adapter cable\", \"bullet_point4\": \"Connectivity Technology: Wired, Earpiece Design: Over-the-head, Earpiece Type: Monaural, Host Interface: Proprietary, Microphone Design: Boom, Microphone Technology: Noise Canceling, Product Model: HW251N, Product Series: SupraPlus, Standard Warranty: 2 Year\", \"bullet_point5\": \"Easy Lightweight Wear -Leaving One Ear Uncovered For Person-to-Person Conversations\", \"product_description\": \"\", \"brand_name\": \"Plantronics\", \"item_name\": \"Plantronics HW251N SupraPlus Wideband Headset (64338-31)\", \"question_type\": \"WH\", \"answer_aggregated\": \"N/A\", \"answers\": [{\"answer_text\": \"Hi there, you would need the U10P 27190-01 direct connect cable. Another model to consider is the Discover D701 and you would need the D100 direct connect cable with that. Below is a link for your reference and give us a call at 1-800-683-5715 for any further questions. https://www.amazon.com/Discover-D701-Single-Office-Headset/dp/B01GGRAOYW/ref sr 1 1?ie UTF8&qid 1480543290&sr 8-1&keywords discover+d701\"}]}\n"
          ]
        }
      ],
      "source": [
        "# See https://registry.opendata.aws/amazon-pqa/\n",
        "# See https://amazon-pqa.s3.amazonaws.com/readme.txt\n",
        "# aws s3 ls --no-sign-request s3://amazon-pqa/\n",
        "# https://amazon-pqa.s3.amazonaws.com/amazon-pqa.tar.gz\n",
        "\n",
        "# Upload the file first\n",
        "!head /content/sample_data/amazon_pqa_headset.json"
      ]
    },
    {
      "cell_type": "code",
      "execution_count": 20,
      "metadata": {
        "colab": {
          "base_uri": "https://localhost:8080/"
        },
        "id": "ktH56r5qvOi8",
        "outputId": "fdc1c75b-9da0-4398-d606-202d86a0896b"
      },
      "outputs": [
        {
          "output_type": "stream",
          "name": "stdout",
          "text": [
            "Index(['question', 'answer'], dtype='object')\n",
            "(1000, 2)\n",
            "Do these have more bass than the game zeros?\n",
            "Due to the closed back design the Game ZERO will have more perceived bass.\n"
          ]
        }
      ],
      "source": [
        "# Load Data file (Just load 1000 for now)\n",
        "\n",
        "import sys\n",
        "import datetime\n",
        "import json\n",
        "import os\n",
        "import time\n",
        "\n",
        "import pandas as pd\n",
        "import numpy as np\n",
        "\n",
        "from ast import literal_eval\n",
        "from tqdm import tqdm\n",
        "\n",
        "from elasticsearch import Elasticsearch\n",
        "from elasticsearch.helpers import bulk\n",
        "from datetime import datetime\n",
        "\n",
        "\n",
        "df = pd.DataFrame(columns=('question', 'answer'))\n",
        "\n",
        "with open('/content/sample_data/amazon_pqa_headset.json') as f:\n",
        "    i=0\n",
        "    for line in f:\n",
        "        data = json.loads(line)\n",
        "        df.loc[i] = [data['question_text'],data['answers'][0]['answer_text']]\n",
        "        i+=1\n",
        "        if(i == 1000):\n",
        "            break\n",
        "\n",
        "print(df.columns)\n",
        "print(df.shape)\n",
        "print(df.iloc[999]['question'])\n",
        "print(df.iloc[999]['answer'])"
      ]
    },
    {
      "cell_type": "markdown",
      "metadata": {
        "id": "LvdnSx7xapUo"
      },
      "source": [
        "# Create the Index, Pipeline and Load Index"
      ]
    },
    {
      "cell_type": "code",
      "execution_count": 22,
      "metadata": {
        "id": "OOHQYK38vvZh",
        "colab": {
          "base_uri": "https://localhost:8080/"
        },
        "outputId": "6808bdff-6670-43e3-d9e2-191474aa669b"
      },
      "outputs": [
        {
          "output_type": "execute_result",
          "data": {
            "text/plain": [
              "ObjectApiResponse({'acknowledged': True, 'shards_acknowledged': True, 'index': 'nlp_pqa_1000'})"
            ]
          },
          "metadata": {},
          "execution_count": 22
        }
      ],
      "source": [
        "# Creates an index in Elasticsearch with raw data\n",
        "es.options(ignore_status=400).indices.create(\n",
        "    index=\"nlp_pqa_1000\",\n",
        "    settings={\"number_of_shards\": 1},\n",
        "    mappings={\n",
        "        \"properties\": {\n",
        "            \"question\": { \"type\": \"text\"},\n",
        "            \"answer\": {\"type\": \"text\"},\n",
        "        }\n",
        "    }\n",
        ")"
      ]
    },
    {
      "cell_type": "code",
      "execution_count": 23,
      "metadata": {
        "id": "3DMU1zVY_nqo",
        "colab": {
          "base_uri": "https://localhost:8080/"
        },
        "outputId": "5acdf3bb-c8a6-4cad-f6b3-9a76d3f662f0"
      },
      "outputs": [
        {
          "output_type": "stream",
          "name": "stdout",
          "text": [
            "Response:  (1000, [])\n"
          ]
        }
      ],
      "source": [
        "# Generate Action\n",
        "def generator():\n",
        "    for index, row in df.iterrows():\n",
        "        yield {\n",
        "            \"_index\": \"nlp_pqa_1000\",\n",
        "            \"question\": row[\"question\"],\n",
        "            \"answer\": row[\"answer\"]\n",
        "        }\n",
        "# Bulk indexing nlp_\n",
        "try:\n",
        "    res = bulk(es, generator())\n",
        "    print(\"Response: \", res)\n",
        "except Exception as e:\n",
        "    print(e)\n"
      ]
    },
    {
      "cell_type": "code",
      "execution_count": 24,
      "metadata": {
        "id": "uu-gz8tI-8vK",
        "colab": {
          "base_uri": "https://localhost:8080/"
        },
        "outputId": "d51290c8-4eee-47f1-8345-65ef4e43776f"
      },
      "outputs": [
        {
          "output_type": "execute_result",
          "data": {
            "text/plain": [
              "ObjectApiResponse({'model_id': '.elser_model_2_linux-x86_64', 'model_type': 'pytorch', 'model_package': {'packaged_model_id': 'elser_model_2_linux-x86_64', 'model_repository': 'https://ml-models.elastic.co', 'minimum_version': '11.0.0', 'size': 274756282, 'sha256': 'be69211494bf9cdc57a7aa0ee06814fcccf999407237816c9d9f0963858e2a61', 'metadata': {}, 'tags': [], 'vocabulary_file': 'elser_model_2_linux-x86_64.vocab.json', 'platform_architecture': 'linux-x86_64'}, 'platform_architecture': 'linux-x86_64', 'created_by': 'api_user', 'version': '11.0.0', 'create_time': 1701463399092, 'model_size_bytes': 0, 'estimated_operations': 0, 'license_level': 'platinum', 'description': 'Elastic Learned Sparse EncodeR v2 optimized for linux-x86_64', 'tags': ['elastic'], 'metadata': {}, 'input': {'field_names': ['text_field']}, 'inference_config': {'text_expansion': {'vocabulary': {'index': '.ml-inference-native-000002'}, 'tokenization': {'bert': {'do_lower_case': True, 'with_special_tokens': True, 'max_sequence_length': 512, 'truncate': 'first', 'span': -1}}}}, 'location': {'index': {'name': '.ml-inference-native-000002'}}})"
            ]
          },
          "metadata": {},
          "execution_count": 24
        }
      ],
      "source": [
        "# Download / Load ELSER\n",
        "es.ml.put_trained_model(model_id=\".elser_model_2_linux-x86_64\", input={\"field_names\": \"text_field\"})"
      ]
    },
    {
      "cell_type": "code",
      "execution_count": null,
      "metadata": {
        "id": "RXv8KvjigR57"
      },
      "outputs": [],
      "source": [
        "# Start ELSER\n",
        "es.ml.start_trained_model_deployment(\n",
        "    model_id=\".elser_model_1\"\n",
        ")"
      ]
    },
    {
      "cell_type": "code",
      "execution_count": null,
      "metadata": {
        "id": "sO3ZPDrZCPcn"
      },
      "outputs": [],
      "source": [
        "# Create Elser Pipeline\n",
        "es.ingest.put_pipeline(id=\"elser-expansion\",\n",
        "    description=\"Elser pipeline\",\n",
        "    processors=[\n",
        "    {\n",
        "        \"inference\": {\n",
        "        \"model_id\": \".elser_model_1\",\n",
        "        # This maps the fields between the model input and the input index\n",
        "        # in this case text_field is the field that the model uses to vectorize\n",
        "        # question is the field in the source index to be vectorized\n",
        "        # so this says use the question field as the input to the model\n",
        "        \"field_map\": {\n",
        "            \"question\": \"text_field\"\n",
        "        },\n",
        "        \"target_field\": \"ml\",\n",
        "        \"inference_config\": {\n",
        "          \"text_expansion\": {\n",
        "            \"results_field\": \"tokens\"\n",
        "          }\n",
        "        }\n",
        "      }\n",
        "    }\n",
        "  ],\n",
        "  on_failure=[\n",
        "    {\n",
        "      \"set\": {\n",
        "        \"description\": \"Index document to 'failed-<index>'\",\n",
        "        \"field\": \"_index\",\n",
        "        \"value\": \"failed-{{{_index}}}\"\n",
        "      }\n",
        "    },\n",
        "    {\n",
        "      \"set\": {\n",
        "        \"description\": \"Set error message\",\n",
        "        \"field\": \"ingest.failure\",\n",
        "        \"value\": \"{{_ingest.on_failure_message}}\"\n",
        "      }\n",
        "    }\n",
        "  ]\n",
        ")"
      ]
    },
    {
      "cell_type": "code",
      "execution_count": null,
      "metadata": {
        "id": "80j3zYvcFcwx"
      },
      "outputs": [],
      "source": [
        "# Create an index using Elser expansion\n",
        "es.options(ignore_status=400).indices.create(\n",
        "    index=\"nlp_pqa_1000_elser_embeddings\",\n",
        "    settings={\"number_of_shards\": 1, \"index.mapping.total_fields.limit\": 2000 },\n",
        "    mappings={\n",
        "        \"properties\": {\n",
        "            \"ml.tokens\": {\n",
        "                \"type\": \"rank_features\"\n",
        "            },\n",
        "            \"question\": { \"type\": \"text\"},\n",
        "            \"answer\": {\"type\": \"text\"}\n",
        "        }\n",
        "    }\n",
        ")"
      ]
    },
    {
      "cell_type": "code",
      "execution_count": null,
      "metadata": {
        "id": "GhyIGRDzG_nW"
      },
      "outputs": [],
      "source": [
        "# Load data with term expansion\n",
        "def generator():\n",
        "    for index, row in df.iterrows():\n",
        "        yield {\n",
        "            \"_index\": \"nlp_pqa_1000_elser_embeddings\",\n",
        "            \"pipeline\": \"elser-expansion\",\n",
        "            \"question\": row[\"question\"],\n",
        "            \"answer\": row[\"answer\"]\n",
        "        }\n",
        "\n",
        "try:\n",
        "    res = bulk(es, generator(), chunk_size=100) # batch size 100\n",
        "    print(\"Response: \", res)\n",
        "except Exception as e:\n",
        "    print(e)\n"
      ]
    },
    {
      "cell_type": "markdown",
      "metadata": {
        "id": "PNP_u7B4a0pp"
      },
      "source": [
        "# Queries"
      ]
    },
    {
      "cell_type": "code",
      "execution_count": null,
      "metadata": {
        "id": "B3YXTTzzLUPd"
      },
      "outputs": [],
      "source": [
        "# Simple Text Expansion\n",
        "\n",
        "query_text = input(\"Enter a question :\")\n",
        "print('\\n')\n",
        "\n",
        "query={\n",
        "    \"text_expansion\": {\n",
        "    \"ml.tokens\": {\n",
        "        \"model_id\":\".elser_model_1\",\n",
        "        \"model_text\": query_text\n",
        "    }\n",
        "  }\n",
        "}\n",
        "\n",
        "resp = es.search(index=\"nlp_pqa_1000_elser_embeddings\", query=query)\n",
        "\n",
        "for hit in resp['hits']['hits']:\n",
        "    doc_id = hit['_id']\n",
        "    score = hit['_score']\n",
        "    question = hit['_source']['question']\n",
        "    answer = hit['_source']['answer']\n",
        "    print(f\"Question: {question}\\nAnswer: {answer}\\n\")"
      ]
    },
    {
      "cell_type": "code",
      "execution_count": null,
      "metadata": {
        "id": "pN01t-9P6F_0"
      },
      "outputs": [],
      "source": [
        "# Text expansion with filter, exclude results\n",
        "# search for \"Does this work with xbox\"\n",
        "\n",
        "query_text = input(\"Enter a question :\")\n",
        "print('\\n')\n",
        "\n",
        "query={\n",
        "    \"bool\": {\n",
        "      \"must\": [\n",
        "        {\n",
        "          \"text_expansion\": {\n",
        "            \"ml.tokens\": {\n",
        "              \"model_id\": \".elser_model_1\",\n",
        "              \"model_text\": query_text\n",
        "            }\n",
        "          }\n",
        "        }\n",
        "      ],\n",
        "      \"must_not\": [\n",
        "        {\n",
        "         \"match_phrase\": {\n",
        "            \"question\": \"xbox one\"\n",
        "          }\n",
        "        },\n",
        "        {\n",
        "          \"match_phrase\": {\n",
        "            \"question\": \"xbox 1\"\n",
        "          }\n",
        "        }\n",
        "      ]\n",
        "    }\n",
        "}\n",
        "\n",
        "resp = es.search(index=\"nlp_pqa_1000_elser_embeddings\", query=query)\n",
        "\n",
        "for hit in resp['hits']['hits']:\n",
        "    doc_id = hit['_id']\n",
        "    score = hit['_score']\n",
        "    question = hit['_source']['question']\n",
        "    answer = hit['_source']['answer']\n",
        "    print(f\"Question: {question}\\nAnswer: {answer}\\n\")"
      ]
    },
    {
      "cell_type": "code",
      "execution_count": null,
      "metadata": {
        "id": "i3J_qVL289Nt"
      },
      "outputs": [],
      "source": [
        "# Text Expansion with filter... only include certain results\n",
        "# search for \"Does this work with xbox\"\n",
        "query_text = input(\"Enter a question :\")\n",
        "print('\\n')\n",
        "\n",
        "query={\n",
        "    \"bool\": {\n",
        "      \"must\": [\n",
        "        {\n",
        "          \"text_expansion\": {\n",
        "            \"ml.tokens\": {\n",
        "              \"model_id\": \".elser_model_1\",\n",
        "              \"model_text\": query_text\n",
        "            }\n",
        "          }\n",
        "        }\n",
        "      ],\n",
        "      \"must\": [\n",
        "        {\n",
        "         \"match\": {\n",
        "            \"question\": \"xbox 360\"\n",
        "          }\n",
        "        }\n",
        "      ]\n",
        "    }\n",
        "}\n",
        "\n",
        "resp = es.search(index=\"nlp_pqa_1000_elser_embeddings\", query=query)\n",
        "\n",
        "print(f\"{resp}\\n\")\n",
        "\n",
        "for hit in resp['hits']['hits']:\n",
        "    doc_id = hit['_id']\n",
        "    score = hit['_score']\n",
        "    question = hit['_source']['question']\n",
        "    answer = hit['_source']['answer']\n",
        "    print(f\"Question: {question}\\nAnswer: {answer}\\n\")\n",
        "\n"
      ]
    },
    {
      "cell_type": "code",
      "execution_count": null,
      "metadata": {
        "id": "pSoWWeyB5KVk"
      },
      "outputs": [],
      "source": [
        "# Hybrid search with text expansion and rrf\n",
        "# NOTE : This works with a slightly lower level of the API\n",
        "# The higher level / abstracted  API is still under development\n",
        "query_text = input (\"Enter a question :\")\n",
        "\n",
        "print('\\n')\n",
        "body = {\n",
        "  \"sub_searches\": [\n",
        "    {\n",
        "      \"query\": {\n",
        "        \"bool\": {\n",
        "          \"must\": [\n",
        "          {\n",
        "            \"match\": {\n",
        "            \"answer\": \"polycom\"\n",
        "              }\n",
        "            }\n",
        "          ]\n",
        "        }\n",
        "      }\n",
        "    },\n",
        "    {\n",
        "      \"query\": {\n",
        "        \"text_expansion\": {\n",
        "          \"ml.tokens\": {\n",
        "          \"model_id\": \".elser_model_1\",\n",
        "          \"model_text\": query_text\n",
        "          }\n",
        "        }\n",
        "      }\n",
        "    }\n",
        "  ],\n",
        "  \"rank\": {\n",
        "    \"rrf\": {\n",
        "        \"window_size\": 50,\n",
        "        \"rank_constant\": 20\n",
        "    }\n",
        "  }\n",
        "}\n",
        "\n",
        "\n",
        "index = \"nlp_pqa_1000_elser_embeddings\"\n",
        "resp = es.perform_request(\"POST\", f\"/{index}/_search\", headers={\"content-type\": \"application/json\", \"accept\": \"application/json\"}, body=body)\n",
        "\n",
        "print(f\"\\n Resp:{resp} \\n\")\n",
        "for hit in resp['hits']['hits']:\n",
        "    doc_id = hit['_id']\n",
        "    rank = hit['_rank']\n",
        "    question = hit['_source']['question']\n",
        "    answer = hit['_source']['answer']\n",
        "    print(f\"\\nRank: {rank}\\nQuestion: {question}\\nAnswer: {answer}\\n\")"
      ]
    }
  ],
  "metadata": {
    "colab": {
      "provenance": [],
      "include_colab_link": true
    },
    "kernelspec": {
      "display_name": "Python 3",
      "name": "python3"
    },
    "language_info": {
      "name": "python"
    }
  },
  "nbformat": 4,
  "nbformat_minor": 0
}